{
 "cells": [
  {
   "cell_type": "code",
   "execution_count": 1,
   "metadata": {},
   "outputs": [],
   "source": [
    "from __future__ import division\n",
    "from __future__ import print_function \n",
    "from IPython.core.interactiveshell import InteractiveShell\n",
    "InteractiveShell.ast_node_interactivity = \"all\"\n",
    "\n",
    "\n",
    "import pandas as pd\n",
    "import numpy as np \n",
    "\n",
    "from sklearn.preprocessing import LabelEncoder\n",
    "from yarst.utils import TrainTestSplit\n",
    "from yarst.models import SGD,ALS,UserBasedCollaborativeFiltering\n",
    "from yarst.metrics import mae,mse\n",
    "# set seed to repeat the task\n",
    "\n",
    "seed_set = 1234\n",
    "np.random.seed(seed_set)\n"
   ]
  },
  {
   "cell_type": "markdown",
   "metadata": {},
   "source": [
    "## Import Data"
   ]
  },
  {
   "cell_type": "code",
   "execution_count": 2,
   "metadata": {},
   "outputs": [
    {
     "data": {
      "text/html": [
       "<div>\n",
       "<style scoped>\n",
       "    .dataframe tbody tr th:only-of-type {\n",
       "        vertical-align: middle;\n",
       "    }\n",
       "\n",
       "    .dataframe tbody tr th {\n",
       "        vertical-align: top;\n",
       "    }\n",
       "\n",
       "    .dataframe thead th {\n",
       "        text-align: right;\n",
       "    }\n",
       "</style>\n",
       "<table border=\"1\" class=\"dataframe\">\n",
       "  <thead>\n",
       "    <tr style=\"text-align: right;\">\n",
       "      <th></th>\n",
       "      <th>user</th>\n",
       "      <th>movie_title</th>\n",
       "      <th>rating</th>\n",
       "      <th>genres</th>\n",
       "      <th>timestamp</th>\n",
       "    </tr>\n",
       "  </thead>\n",
       "  <tbody>\n",
       "    <tr>\n",
       "      <th>0</th>\n",
       "      <td>1</td>\n",
       "      <td>Dangerous Minds (1995)</td>\n",
       "      <td>2.5</td>\n",
       "      <td>Drama</td>\n",
       "      <td>1260759144</td>\n",
       "    </tr>\n",
       "    <tr>\n",
       "      <th>1</th>\n",
       "      <td>7</td>\n",
       "      <td>Dangerous Minds (1995)</td>\n",
       "      <td>3.0</td>\n",
       "      <td>Drama</td>\n",
       "      <td>851868750</td>\n",
       "    </tr>\n",
       "    <tr>\n",
       "      <th>2</th>\n",
       "      <td>31</td>\n",
       "      <td>Dangerous Minds (1995)</td>\n",
       "      <td>4.0</td>\n",
       "      <td>Drama</td>\n",
       "      <td>1273541953</td>\n",
       "    </tr>\n",
       "    <tr>\n",
       "      <th>3</th>\n",
       "      <td>32</td>\n",
       "      <td>Dangerous Minds (1995)</td>\n",
       "      <td>4.0</td>\n",
       "      <td>Drama</td>\n",
       "      <td>834828440</td>\n",
       "    </tr>\n",
       "    <tr>\n",
       "      <th>4</th>\n",
       "      <td>36</td>\n",
       "      <td>Dangerous Minds (1995)</td>\n",
       "      <td>3.0</td>\n",
       "      <td>Drama</td>\n",
       "      <td>847057202</td>\n",
       "    </tr>\n",
       "  </tbody>\n",
       "</table>\n",
       "</div>"
      ],
      "text/plain": [
       "   user             movie_title  rating genres   timestamp\n",
       "0     1  Dangerous Minds (1995)     2.5  Drama  1260759144\n",
       "1     7  Dangerous Minds (1995)     3.0  Drama   851868750\n",
       "2    31  Dangerous Minds (1995)     4.0  Drama  1273541953\n",
       "3    32  Dangerous Minds (1995)     4.0  Drama   834828440\n",
       "4    36  Dangerous Minds (1995)     3.0  Drama   847057202"
      ]
     },
     "execution_count": 2,
     "metadata": {},
     "output_type": "execute_result"
    }
   ],
   "source": [
    "df_rating = pd.read_csv('data.csv')\n",
    "df_rating.head(5)"
   ]
  },
  {
   "cell_type": "code",
   "execution_count": 3,
   "metadata": {},
   "outputs": [
    {
     "data": {
      "text/plain": [
       "(100003, 7)"
      ]
     },
     "execution_count": 3,
     "metadata": {},
     "output_type": "execute_result"
    },
    {
     "data": {
      "text/html": [
       "<div>\n",
       "<style scoped>\n",
       "    .dataframe tbody tr th:only-of-type {\n",
       "        vertical-align: middle;\n",
       "    }\n",
       "\n",
       "    .dataframe tbody tr th {\n",
       "        vertical-align: top;\n",
       "    }\n",
       "\n",
       "    .dataframe thead th {\n",
       "        text-align: right;\n",
       "    }\n",
       "</style>\n",
       "<table border=\"1\" class=\"dataframe\">\n",
       "  <thead>\n",
       "    <tr style=\"text-align: right;\">\n",
       "      <th></th>\n",
       "      <th>user</th>\n",
       "      <th>movie_title</th>\n",
       "      <th>rating</th>\n",
       "      <th>genres</th>\n",
       "      <th>timestamp</th>\n",
       "      <th>user_id</th>\n",
       "      <th>movie_id</th>\n",
       "    </tr>\n",
       "  </thead>\n",
       "  <tbody>\n",
       "    <tr>\n",
       "      <th>0</th>\n",
       "      <td>1</td>\n",
       "      <td>Dangerous Minds (1995)</td>\n",
       "      <td>2.5</td>\n",
       "      <td>Drama</td>\n",
       "      <td>1260759144</td>\n",
       "      <td>0</td>\n",
       "      <td>1976</td>\n",
       "    </tr>\n",
       "    <tr>\n",
       "      <th>1</th>\n",
       "      <td>7</td>\n",
       "      <td>Dangerous Minds (1995)</td>\n",
       "      <td>3.0</td>\n",
       "      <td>Drama</td>\n",
       "      <td>851868750</td>\n",
       "      <td>6</td>\n",
       "      <td>1976</td>\n",
       "    </tr>\n",
       "    <tr>\n",
       "      <th>2</th>\n",
       "      <td>31</td>\n",
       "      <td>Dangerous Minds (1995)</td>\n",
       "      <td>4.0</td>\n",
       "      <td>Drama</td>\n",
       "      <td>1273541953</td>\n",
       "      <td>30</td>\n",
       "      <td>1976</td>\n",
       "    </tr>\n",
       "    <tr>\n",
       "      <th>3</th>\n",
       "      <td>32</td>\n",
       "      <td>Dangerous Minds (1995)</td>\n",
       "      <td>4.0</td>\n",
       "      <td>Drama</td>\n",
       "      <td>834828440</td>\n",
       "      <td>31</td>\n",
       "      <td>1976</td>\n",
       "    </tr>\n",
       "    <tr>\n",
       "      <th>4</th>\n",
       "      <td>36</td>\n",
       "      <td>Dangerous Minds (1995)</td>\n",
       "      <td>3.0</td>\n",
       "      <td>Drama</td>\n",
       "      <td>847057202</td>\n",
       "      <td>35</td>\n",
       "      <td>1976</td>\n",
       "    </tr>\n",
       "  </tbody>\n",
       "</table>\n",
       "</div>"
      ],
      "text/plain": [
       "   user             movie_title  rating genres   timestamp  user_id  movie_id\n",
       "0     1  Dangerous Minds (1995)     2.5  Drama  1260759144        0      1976\n",
       "1     7  Dangerous Minds (1995)     3.0  Drama   851868750        6      1976\n",
       "2    31  Dangerous Minds (1995)     4.0  Drama  1273541953       30      1976\n",
       "3    32  Dangerous Minds (1995)     4.0  Drama   834828440       31      1976\n",
       "4    36  Dangerous Minds (1995)     3.0  Drama   847057202       35      1976"
      ]
     },
     "execution_count": 3,
     "metadata": {},
     "output_type": "execute_result"
    }
   ],
   "source": [
    "# process data\n",
    "\n",
    "user_encoder = LabelEncoder()\n",
    "df_rating['user_id'] = user_encoder.fit_transform(df_rating['user'].values)\n",
    "\n",
    "movie_encoder = LabelEncoder()\n",
    "df_rating['movie_id'] = user_encoder.fit_transform(df_rating['movie_title'].values)\n",
    "\n",
    "# drop dups\n",
    "df_rating = df_rating.drop_duplicates(['user_id','movie_id'])\n",
    "df_rating.shape\n",
    "df_rating.head(5)"
   ]
  },
  {
   "cell_type": "code",
   "execution_count": 4,
   "metadata": {},
   "outputs": [
    {
     "name": "stdout",
     "output_type": "stream",
     "text": [
      "557 unique users in train\n",
      "Train sparsity: 1.82%\n",
      "137 unique users in test\n",
      "Test sparsity: 2.43%\n"
     ]
    }
   ],
   "source": [
    "# split the train and test \n",
    "# params \n",
    "# split_count: int. Number of user-item-ratings per user to move from training to test set.\n",
    "# threshold: int, set the minimin number of items that test has hold\n",
    "# fractions : float. Fraction of users to split off some of their interactions into test set. \n",
    "#            If None, then all users are considered.\n",
    "\n",
    "x_col = {'user':'user_id','item':'movie_id','rate':'rating'}\n",
    "df_train, df_test = TrainTestSplit(df_rating,x_col,\n",
    "                                   split_count = 100,threshold = 200, fraction = None,\n",
    "                                   verbose=1)\n",
    "\n",
    "# remove dups\n",
    "df_train = df_train.drop_duplicates(['user_id','movie_id'])\n",
    "df_test = df_test.drop_duplicates(['user_id','movie_id'])\n"
   ]
  },
  {
   "cell_type": "markdown",
   "metadata": {},
   "source": [
    "## Build Model(SGD)"
   ]
  },
  {
   "cell_type": "code",
   "execution_count": 6,
   "metadata": {},
   "outputs": [
    {
     "name": "stdout",
     "output_type": "stream",
     "text": [
      "total number of users: 671\n",
      "total number of movies: 9064\n"
     ]
    }
   ],
   "source": [
    "num_user = df_rating[\"user_id\"].nunique()\n",
    "num_item = df_rating[\"movie_id\"].nunique()\n",
    "\n",
    "print(\"total number of users: {}\".format(num_user))\n",
    "print(\"total number of movies: {}\".format(num_item))"
   ]
  },
  {
   "cell_type": "code",
   "execution_count": 8,
   "metadata": {},
   "outputs": [
    {
     "name": "stderr",
     "output_type": "stream",
     "text": [
      "100%|██████████| 10/10 [00:19<00:00,  1.93s/it]\n"
     ]
    }
   ],
   "source": [
    "# build the sgd, components is hidden factor number\n",
    "sgd = SGD(num_hidden_factor=20,num_user=num_user,num_item=num_item)\n",
    "\n",
    "#fit the data via df_train\n",
    "x = {'user':df_train[\"user_id\"].values,'item':df_train[\"movie_id\"].values}\n",
    "y = df_train[\"rating\"].values\n",
    "sgd.train(x,y)"
   ]
  },
  {
   "cell_type": "code",
   "execution_count": 13,
   "metadata": {},
   "outputs": [
    {
     "name": "stdout",
     "output_type": "stream",
     "text": [
      "mean_absolute_error: 0.748679824892\n",
      "mean_squared_error: 0.904119602473\n"
     ]
    }
   ],
   "source": [
    "# evaluate model\n",
    "\n",
    "y_pred = sgd.predict(\n",
    "    {'user':df_test[\"user_id\"].values,'item':df_test[\"movie_id\"].values}\n",
    ")\n",
    "y_true = df_test[\"rating\"].values\n",
    "\n",
    "print(\"mean_absolute_error: {}\".format(mae()(y_true,np.array(y_pred))))\n",
    "print(\"mean_squared_error: {}\".format(mse()(y_true,np.array(y_pred))))"
   ]
  },
  {
   "cell_type": "markdown",
   "metadata": {},
   "source": [
    "## Build Model(CF)"
   ]
  },
  {
   "cell_type": "code",
   "execution_count": 5,
   "metadata": {},
   "outputs": [],
   "source": [
    "x = {'user':df_train[\"user_id\"].values,'item':df_train[\"movie_id\"].values}\n",
    "y = df_train[\"rating\"].values\n",
    "\n",
    "\n",
    "ubcf = UserBasedCollaborativeFiltering()\n",
    "\n",
    "ubcf.train(x,y)\n",
    "\n"
   ]
  },
  {
   "cell_type": "code",
   "execution_count": 6,
   "metadata": {},
   "outputs": [
    {
     "name": "stdout",
     "output_type": "stream",
     "text": [
      "mean_absolute_error: 1.79276970464\n",
      "mean_squared_error: 5.30892301291\n"
     ]
    }
   ],
   "source": [
    "# evaluate model\n",
    "\n",
    "y_pred = ubcf.predict(\n",
    "    {'user':df_test[\"user_id\"].values,'item':df_test[\"movie_id\"].values}\n",
    ")\n",
    "y_true = df_test[\"rating\"].values\n",
    "\n",
    "print(\"mean_absolute_error: {}\".format(mae()(y_true,np.array(y_pred))))\n",
    "print(\"mean_squared_error: {}\".format(mse()(y_true,np.array(y_pred))))"
   ]
  }
 ],
 "metadata": {
  "kernelspec": {
   "display_name": "Python 2",
   "language": "python",
   "name": "python2"
  },
  "language_info": {
   "codemirror_mode": {
    "name": "ipython",
    "version": 2
   },
   "file_extension": ".py",
   "mimetype": "text/x-python",
   "name": "python",
   "nbconvert_exporter": "python",
   "pygments_lexer": "ipython2",
   "version": "2.7.13"
  }
 },
 "nbformat": 4,
 "nbformat_minor": 2
}
